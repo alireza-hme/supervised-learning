{
 "cells": [
  {
   "cell_type": "code",
   "execution_count": null,
   "metadata": {},
   "outputs": [],
   "source": [
    "import sys\n",
    "import numpy as np\n",
    "import matplotlib.pyplot as plt\n",
    "\n",
    "sys.path.append(\"..\")\n",
    "\n",
    "from scripts.utils import plot_data\n",
    "\n",
    "x_train = np.load(\"../data/processed/x_train.npy\")\n",
    "y_train = np.load(\"../data/processed/y_train.npy\")\n",
    "\n",
    "\n",
    "plot_data(x_train, y_train[:], pos_label=\"Admitted\", neg_label=\"Not Admitted\")\n",
    "\n",
    "plt.ylabel('Exam 2 score') \n",
    "plt.xlabel('Exam 1 score') \n",
    "plt.legend(loc=\"upper right\")\n",
    "plt.show()\n",
    "\n"
   ]
  }
 ],
 "metadata": {
  "language_info": {
   "name": "python"
  }
 },
 "nbformat": 4,
 "nbformat_minor": 2
}
