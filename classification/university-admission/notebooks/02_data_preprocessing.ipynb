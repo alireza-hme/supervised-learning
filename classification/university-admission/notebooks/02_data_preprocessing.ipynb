{
 "cells": [
  {
   "cell_type": "code",
   "execution_count": null,
   "metadata": {},
   "outputs": [],
   "source": [
    "import sys\n",
    "import numpy as np\n",
    "\n",
    "sys.path.append(\"..\")\n",
    "\n",
    "from scripts.utils import load_data\n",
    "\n",
    "x_train, y_train = load_data(\"../data/raw/ex2data1.txt\")\n",
    "\n",
    "np.save(\"../data/processed/x_train.npy\", x_train)\n",
    "np.save(\"../data/processed/y_train.npy\", y_train)\n",
    "\n",
    "\n",
    "# print(\"x_train value =====\", x_train[:5])\n",
    "# print(\"x_train type =====\", type(x_train))\n",
    "\n",
    "# print(\"y_train value =====\", y_train[:5])\n",
    "# print(\"y_train type =====\", type(y_train))\n",
    "\n"
   ]
  }
 ],
 "metadata": {
  "kernelspec": {
   "display_name": "Python 3",
   "language": "python",
   "name": "python3"
  },
  "language_info": {
   "codemirror_mode": {
    "name": "ipython",
    "version": 3
   },
   "file_extension": ".py",
   "mimetype": "text/x-python",
   "name": "python",
   "nbconvert_exporter": "python",
   "pygments_lexer": "ipython3",
   "version": "3.10.12"
  }
 },
 "nbformat": 4,
 "nbformat_minor": 2
}
