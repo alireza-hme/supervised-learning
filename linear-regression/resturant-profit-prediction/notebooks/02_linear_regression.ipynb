{
 "cells": [
  {
   "cell_type": "code",
   "execution_count": null,
   "metadata": {},
   "outputs": [],
   "source": [
    "import numpy as np\n",
    "import pickle\n",
    "from sklearn.linear_model import SGDRegressor\n",
    "\n",
    "x_train = np.load(\"../data/processed/x_train.npy\")\n",
    "y_train = np.load(\"../data/processed/y_train.npy\")\n",
    "\n",
    "x_train = x_train.reshape(-1, 1)\n",
    "sgdr_model = SGDRegressor(max_iter=1350)\n",
    "sgdr_model.fit(x_train, y_train)\n",
    "\n",
    "# Save the trained model to a .pkl file\n",
    "with open('../models/linear_regression_sgd.pkl', 'wb') as f:\n",
    "    pickle.dump(sgdr_model, f)"
   ]
  }
 ],
 "metadata": {
  "language_info": {
   "name": "python"
  }
 },
 "nbformat": 4,
 "nbformat_minor": 2
}
