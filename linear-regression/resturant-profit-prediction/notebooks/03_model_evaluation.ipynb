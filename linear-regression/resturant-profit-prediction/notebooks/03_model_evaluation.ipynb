{
 "cells": [
  {
   "cell_type": "code",
   "execution_count": null,
   "metadata": {},
   "outputs": [],
   "source": [
    "import sys\n",
    "import pickle\n",
    "import numpy as np\n",
    "import matplotlib.pyplot as plt\n",
    "\n",
    "\n",
    "sys.path.append('..')\n",
    "plt.style.use(\"../styles/basic.mplstyle\")\n",
    "\n",
    "x_train = np.load(\"../data/processed/x_train.npy\")\n",
    "x_train = x_train.reshape(-1, 1)\n",
    "y_train = np.load(\"../data/processed/y_train.npy\")\n",
    "\n",
    "with open('../models/linear_regression_sgd.pkl', 'rb') as f:\n",
    "    sgdr_loaded = pickle.load(f)\n",
    "\n",
    "# Predict using the loaded model\n",
    "y_pred = sgdr_loaded.predict(x_train)\n",
    "\n",
    "plt.figure(figsize=(10, 6))\n",
    "plt.scatter(x_train, y_train, color='blue', label='Actual data')  # Scatter plot of actual data\n",
    "plt.plot(x_train, y_pred, color='red', linestyle='-', linewidth=2, label='Predicted data')  # Line plot of predictions\n",
    "\n",
    "plt.title('Actual vs. Predicted Data')\n",
    "plt.xlabel('X Train')\n",
    "plt.ylabel('Y Train')\n",
    "plt.legend()  \n",
    "\n",
    "plt.show()"
   ]
  }
 ],
 "metadata": {
  "language_info": {
   "name": "python"
  }
 },
 "nbformat": 4,
 "nbformat_minor": 2
}
