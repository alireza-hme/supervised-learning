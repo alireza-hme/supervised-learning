{
 "cells": [
  {
   "cell_type": "code",
   "execution_count": 2,
   "metadata": {},
   "outputs": [],
   "source": [
    "import numpy as np\n",
    "import pickle\n",
    "from sklearn.linear_model import SGDRegressor\n",
    "\n",
    "np.set_printoptions(precision=2)\n",
    "\n",
    "x_norm = np.load('../data/processed/house_x_norm.npy')\n",
    "y_train = np.load('../data/processed/house_y_train.npy')\n",
    "\n",
    "sgdr_model = SGDRegressor(max_iter=1000)\n",
    "sgdr_model.fit(x_norm, y_train)\n",
    "\n",
    "y_pred = sgdr_model.predict(x_norm)\n",
    "\n",
    "\n",
    "\n",
    "# Save the trained model to a .pkl file\n",
    "with open('../models/linear_regression_sgd.pkl', 'wb') as f:\n",
    "    pickle.dump(sgdr_model, f)"
   ]
  }
 ],
 "metadata": {
  "kernelspec": {
   "display_name": "mvlr_env",
   "language": "python",
   "name": "python3"
  },
  "language_info": {
   "codemirror_mode": {
    "name": "ipython",
    "version": 3
   },
   "file_extension": ".py",
   "mimetype": "text/x-python",
   "name": "python",
   "nbconvert_exporter": "python",
   "pygments_lexer": "ipython3",
   "version": "3.10.12"
  }
 },
 "nbformat": 4,
 "nbformat_minor": 2
}
