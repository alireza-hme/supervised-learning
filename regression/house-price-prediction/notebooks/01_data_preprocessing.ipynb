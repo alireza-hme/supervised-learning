{
 "cells": [
  {
   "cell_type": "code",
   "execution_count": 5,
   "metadata": {},
   "outputs": [],
   "source": [
    "import sys\n",
    "import numpy as np\n",
    "from sklearn.preprocessing import StandardScaler  \n",
    "\n",
    "sys.path.append('..')\n",
    "\n",
    "from scripts.utils import load_house_data\n",
    "\n",
    "np.set_printoptions(precision=2)\n",
    "x_train, y_train = load_house_data()\n",
    "\n",
    "scaler = StandardScaler()\n",
    "x_norm = scaler.fit_transform(x_train)\n",
    "\n",
    "np.save(\"../data/processed/house_x_norm.npy\", x_norm)\n",
    "np.save(\"../data/processed/house_y_train.npy\", y_train)\n",
    "np.save(\"../data/processed/house_x_train.npy\", x_train)\n"
   ]
  }
 ],
 "metadata": {
  "kernelspec": {
   "display_name": "mvlr_env",
   "language": "python",
   "name": "python3"
  },
  "language_info": {
   "codemirror_mode": {
    "name": "ipython",
    "version": 3
   },
   "file_extension": ".py",
   "mimetype": "text/x-python",
   "name": "python",
   "nbconvert_exporter": "python",
   "pygments_lexer": "ipython3",
   "version": "3.10.12"
  }
 },
 "nbformat": 4,
 "nbformat_minor": 2
}
